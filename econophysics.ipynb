{
  "nbformat": 4,
  "nbformat_minor": 0,
  "metadata": {
    "colab": {
      "provenance": [],
      "authorship_tag": "ABX9TyOCEd2Dmb9kqzKBTHlMdGPQ",
      "include_colab_link": true
    },
    "kernelspec": {
      "name": "python3",
      "display_name": "Python 3"
    },
    "language_info": {
      "name": "python"
    }
  },
  "cells": [
    {
      "cell_type": "markdown",
      "metadata": {
        "id": "view-in-github",
        "colab_type": "text"
      },
      "source": [
        "<a href=\"https://colab.research.google.com/github/neillinehan/NeilLinehanPortfolio/blob/main/econophysics.ipynb\" target=\"_parent\"><img src=\"https://colab.research.google.com/assets/colab-badge.svg\" alt=\"Open In Colab\"/></a>"
      ]
    },
    {
      "cell_type": "markdown",
      "source": [
        "#osccilation test"
      ],
      "metadata": {
        "id": "fMhSNF2e1FlI"
      }
    },
    {
      "cell_type": "code",
      "source": [
        "!pip install pyleoclim\n",
        "!pip install cartopy"
      ],
      "metadata": {
        "id": "IZ2qIr_2eCiJ"
      },
      "execution_count": null,
      "outputs": []
    },
    {
      "cell_type": "code",
      "source": [
        "import pyleoclim as pyleo"
      ],
      "metadata": {
        "id": "ZfLm5NT0eHJv"
      },
      "execution_count": null,
      "outputs": []
    },
    {
      "cell_type": "code",
      "source": [
        "import random\n",
        "import matplotlib.pyplot as plt\n",
        "import numpy as np\n",
        "from numba import jit\n",
        "import statistics\n",
        "\n",
        "import random\n",
        "\n",
        "from numba import jit, prange\n",
        "import pandas as pd\n",
        "\n",
        "import matplotlib.pyplot as plt"
      ],
      "metadata": {
        "id": "Qti3XDUBqbIs"
      },
      "execution_count": null,
      "outputs": []
    },
    {
      "cell_type": "code",
      "source": [
        "@jit(nopython=True, parallel=False)\n",
        "def simulate_optimized(positions, workers, jobs, moves,directions, jobs_in_B, external_force=0.0,pos_movement_prob=.5,momentum_bias=.0):\n",
        "    net_field = np.zeros(moves)\n",
        "    #random_numbers = np.random.rand(moves, workers)  # Generate all random numbers in advance\n",
        "    two_segments = 2 * jobs  # Pre-calculate 2*jobs\n",
        "\n",
        "    pos_prob = pos_movement_prob * (1 - momentum_bias) + momentum_bias\n",
        "    neg_prob = (1-pos_movement_prob) * (1 - momentum_bias) + momentum_bias\n",
        "\n",
        "    for j in range(moves):  # Simulate for moves moves\n",
        "        # Reset the receptacles\n",
        "        receptacle_A = 0\n",
        "        receptacle_B = 0\n",
        "\n",
        "        for i in prange(workers):\n",
        "\n",
        "            # Update the position\n",
        "            positions[i] += directions[i] + external_force\n",
        "\n",
        "            # Determine the direction of movement\n",
        "            random_number = np.random.rand()\n",
        "            if directions[i] == 1:\n",
        "                directions[i] = 1 if random_number < pos_prob else -1\n",
        "            else:\n",
        "                directions[i] = -1 if random_number < neg_prob else 1\n",
        "\n",
        "\n",
        "\n",
        "            # Check boundaries and update direction if necessary\n",
        "            if positions[i] >= jobs:\n",
        "                positions[i] = two_segments - positions[i] - 1\n",
        "                directions[i] = -1\n",
        "            elif positions[i] < 0:\n",
        "                positions[i] = -positions[i] - 1\n",
        "                directions[i] = 1\n",
        "\n",
        "            # Update the receptacles based on the partition point\n",
        "            if 0 <= positions[i] < jobs_in_B:\n",
        "                receptacle_B += 1\n",
        "            else:\n",
        "                receptacle_A += 1\n",
        "\n",
        "        # Calculate the net field and add it to the list\n",
        "        net_field[j] = receptacle_A - receptacle_B\n",
        "\n",
        "    return net_field\n"
      ],
      "metadata": {
        "id": "SvswIW54BliU"
      },
      "execution_count": null,
      "outputs": []
    },
    {
      "cell_type": "code",
      "source": [
        "workers = 400\n",
        "jobs = 690\n",
        "moves = 5000\n",
        "\n",
        "settings_list = [\n",
        "    {'workers': workers, 'jobs': jobs, 'pos_movement_prob':.50,'momentum_bias':.998, 'moves': moves,'label':'Equal Jobs among Nations','jobs_in_B': jobs//2,'external_force':.00},\n",
        "    {'workers': workers, 'jobs': jobs, 'pos_movement_prob':.50,'momentum_bias':.998, 'moves': moves,'label':'Equal Jobs among Nations','jobs_in_B': jobs//2,'external_force':.00},\n",
        "    {'workers': workers, 'jobs': jobs, 'pos_movement_prob':.50,'momentum_bias':.998, 'moves': moves,'label':'Equal Jobs among Nations','jobs_in_B': jobs//2,'external_force':.00},\n",
        "    {'workers': workers, 'jobs': jobs, 'pos_movement_prob':.50,'momentum_bias':.998, 'moves': moves,'label':'Equal Jobs among Nations','jobs_in_B': jobs//2,'external_force':.00},\n",
        "    {'workers': workers, 'jobs': jobs, 'pos_movement_prob':.50,'momentum_bias':.998, 'moves': moves,'label':'Equal Jobs among Nations','jobs_in_B': jobs//2,'external_force':.00},\n",
        "    {'workers': workers, 'jobs': jobs, 'pos_movement_prob':.50,'momentum_bias':0, 'moves': moves,'label':'Equal Jobs among Nations','jobs_in_B': jobs//2,'external_force':.1},\n",
        "]\n",
        "\n",
        "\n",
        "\n",
        "for settings in settings_list:\n",
        "  position_array = np.zeros(settings['workers'])#+settings['jobs']//2-1      #np.linspace(0, jobs, num=workers, dtype=int) #np.linspace(jobs//4, jobs-jobs//4, num=workers, dtype=int)\n",
        "  directions = 2 * np.random.randint(2, size=settings['workers']) - 1#np.ones(workers)#\n",
        "\n",
        "  net_field = simulate_optimized(\n",
        "      position_array,\n",
        "                                 settings['workers'],\n",
        "                                 settings['jobs'],\n",
        "                                 settings['moves'],\n",
        "                                 directions,\n",
        "                                 settings['jobs_in_B'],\n",
        "                                 pos_movement_prob=settings['pos_movement_prob'],\n",
        "                                 momentum_bias=settings['momentum_bias'],\n",
        "                                 external_force=settings['external_force'],\n",
        "                                 )\n",
        "  plt.plot(net_field/settings['workers'],label=settings['pos_movement_prob'])\n",
        "\n",
        "plt.legend()\n",
        "\\"
      ],
      "metadata": {
        "id": "CIrSJP5qhVjP"
      },
      "execution_count": null,
      "outputs": []
    },
    {
      "cell_type": "markdown",
      "source": [
        "thoughts:\n",
        "at a 3 moments with 10 receptacles, not much in the way of a strong oscilattion behavior.\n"
      ],
      "metadata": {
        "id": "kZo8nkYxHmsw"
      }
    },
    {
      "cell_type": "code",
      "source": [
        "def calculate_normed_std_dev(moments, segments, length, forward_prob, partition_point):\n",
        "    positions = np.linspace(0, segments-1, num=moments, dtype=int)\n",
        "    directions = np.ones(moments)\n",
        "    net_field = simulate_optimized(positions, moments, segments, length, forward_prob, directions, partition_point)\n",
        "    std_dev = np.std(net_field)\n",
        "    two_moments = 2 * moments  # Pre-calculate 2*moments\n",
        "    normed_std_dev = std_dev / two_moments  # Normalize by the total range of possible net field values\n",
        "    return normed_std_dev\n",
        "\n",
        "# Define the settings for moments and segments\n",
        "moments_values = [100, 200, 300, 400, 500,600,700,800,900,1000,1100,1200,1300,1400,1500,1600]\n",
        "segments_values = [50, 100, 150, 200, 250,350,450,550,650,750,850,950,1050,1150,1250,1350,1450,1550]\n",
        "\n",
        "# Other parameters\n",
        "length = 10000\n",
        "forward_prob = 0.5\n",
        "#partition_point = 50\n",
        "\n",
        "# Calculate the normalized standard deviation for each combination of moments and segments\n",
        "results = {}\n",
        "for moments in moments_values:\n",
        "    for segments in segments_values:\n",
        "        normed_std_dev = calculate_normed_std_dev(moments, segments, length, forward_prob, segments//2)\n",
        "        results[(moments, segments)] = normed_std_dev\n",
        "\n",
        "import numpy as np\n",
        "from scipy.interpolate import griddata\n",
        "import matplotlib.pyplot as plt\n",
        "\n",
        "# Create a list of all pairs of (moment, segment)\n",
        "moments_segments_pairs = [(moment, segment) for moment in moments_values for segment in segments_values]\n",
        "\n",
        "# Calculate the normalized standard deviation for each pair\n",
        "results = [calculate_normed_std_dev(moment, segment, length, forward_prob, segment//2) for moment, segment in moments_segments_pairs]\n",
        "\n",
        "# Convert moments_segments_pairs to a 2D array\n",
        "points = np.array(moments_segments_pairs)\n",
        "\n",
        "# Create a grid of moments and segments values\n",
        "grid_moments, grid_segments = np.mgrid[min(moments_values):max(moments_values):100j, min(segments_values):max(segments_values):100j]\n",
        "\n",
        "# Interpolate the normalized std dev values onto this grid\n",
        "grid_normed_std_dev = griddata(points, results, (grid_moments, grid_segments), method='cubic')\n",
        "\n",
        "# Create the contour plot\n",
        "plt.figure(figsize=(10, 8))\n",
        "plt.contourf(grid_moments, grid_segments, 1/grid_normed_std_dev, levels = len(moments_values)*len(segments_values) )\n",
        "plt.colorbar(label='Normalized Std Dev')\n",
        "plt.xlabel('Moments')\n",
        "plt.ylabel('Segments')\n",
        "plt.title('Normalized Std Dev for different Moments and Segments')"
      ],
      "metadata": {
        "id": "qMtBd_iRWwQu"
      },
      "execution_count": null,
      "outputs": []
    },
    {
      "cell_type": "markdown",
      "source": [
        "##entropy"
      ],
      "metadata": {
        "id": "7xTYMTMqs_Bk"
      }
    },
    {
      "cell_type": "code",
      "source": [
        "import random\n",
        "import matplotlib.pyplot as plt\n",
        "import numpy as np\n",
        "from numba import jit\n",
        "import statistics\n",
        "\n",
        "import random\n",
        "import numpy as np\n",
        "from numba import jit, prange\n",
        "import pandas as pd\n",
        "import numpy as np\n",
        "import matplotlib.pyplot as plt\n",
        "from numba import prange, jit"
      ],
      "metadata": {
        "id": "MZ4sF_55tDxn"
      },
      "execution_count": null,
      "outputs": []
    },
    {
      "cell_type": "code",
      "source": [
        "@jit(nopython=True, parallel=False)\n",
        "def random_walk_1D_walled_space_reflect(workers, jobs, moves, jobs_in_B=None, directions=None,positions=None,forward_prob=.5,momentum_bias=.0):\n",
        "\n",
        "    if positions is None:\n",
        "      positions = np.random.randint(0, jobs, workers)\n",
        "    if directions is None:\n",
        "      directions = 2 * np.random.randint(0,2, size=workers) - 1\n",
        "    else:\n",
        "      assert directions is not None, \"directions must not be None\"\n",
        "    if jobs_in_B is None:\n",
        "      jobs_in_B = jobs//2\n",
        "\n",
        "    num_in_recp_B = np.zeros(moves)\n",
        "    #random_numbers = np.random.rand(moves, workers)  # Generate all random numbers in advance\n",
        "    #two_segments = 2 * jobs  # Pre-calculate 2*jobs\n",
        "\n",
        "    for j in range(moves):  # Simulate for moves moves\n",
        "        # Reset the receptacles\n",
        "        receptacle_B = 0\n",
        "\n",
        "        for i in range(workers):  # Parallelize the inner loop\n",
        "\n",
        "            # Update the position\n",
        "            positions[i] += directions[i]\n",
        "\n",
        "            #if directions[i]  == 1:\n",
        "            #  prob_forward = forward_prob * (1 + momentum_bias)\n",
        "            #else:\n",
        "            #  prob_forward = forward_prob * (1 - momentum_bias)\n",
        "\n",
        "            # Generate a random number to determine direction\n",
        "            random_number = np.random.rand()\n",
        "\n",
        "            # Update direction based on the random number\n",
        "            directions[i]  = 1 if random_number < forward_prob else -1 #prob_forward else -1\n",
        "\n",
        "            # Check boundaries and update direction if necessary\n",
        "            if positions[i] >= jobs:\n",
        "              positions[i] = 0#jobs - 1#  # Reflect at the upper boundary\n",
        "              directions[i] *= -1      # Reverse direction\n",
        "            elif positions[i] < 0:\n",
        "              positions[i] = jobs-1#0         # Reflect at the lower boundary\n",
        "              directions[i] *= -1      # Reverse direction\n",
        "\n",
        "\n",
        "            # Update the receptacles based on the partition point\n",
        "            if 0 <= positions[i] < jobs_in_B:\n",
        "                receptacle_B += 1\n",
        "\n",
        "        num_in_recp_B[j] = receptacle_B\n",
        "\n",
        "    return num_in_recp_B\n"
      ],
      "metadata": {
        "id": "LEOQY_dRtDxo"
      },
      "execution_count": null,
      "outputs": []
    },
    {
      "cell_type": "code",
      "source": [
        "\n",
        "@jit(nopython=True, parallel=False)\n",
        "def random_walk_1D_wrapped_space_optimized(workers, jobs, moves, jobs_in_B=None, directions=None, positions=None, forward_prob=.5, momentum_bias=.0):\n",
        "    if positions is None:\n",
        "        positions = np.random.randint(0, jobs, workers)\n",
        "    if directions is None:\n",
        "        directions = 2 * np.random.randint(0, 2, size=workers) - 1\n",
        "    else:\n",
        "        assert directions is not None, \"directions must not be None\"\n",
        "    if jobs_in_B is None:\n",
        "        jobs_in_B = jobs // 2\n",
        "\n",
        "    num_in_recp_B = np.zeros(moves, dtype=np.int32)\n",
        "\n",
        "    for j in range(moves):  # Simulate for 'moves' moves\n",
        "        receptacle_B = 0\n",
        "        for i in prange(workers):  # Parallelize the inner loop\n",
        "            # Update the position with wrap-around\n",
        "            positions[i] = (positions[i] + directions[i]) % jobs\n",
        "\n",
        "            # Generate a random number to determine direction\n",
        "            random_number = np.random.rand()\n",
        "\n",
        "            # Update direction based on the random number\n",
        "            directions[i] = 1 if random_number < forward_prob else -1\n",
        "\n",
        "            # Update the receptacles based on the partition point\n",
        "            if 0 <= positions[i] < jobs_in_B:\n",
        "                receptacle_B += 1\n",
        "\n",
        "        num_in_recp_B[j] = receptacle_B\n",
        "\n",
        "    return num_in_recp_B\n"
      ],
      "metadata": {
        "id": "TtgJXwVZzJH4"
      },
      "execution_count": null,
      "outputs": []
    },
    {
      "cell_type": "code",
      "source": [
        "@jit(nopython=True, parallel=False)\n",
        "def random_walk_1D_reflecting_space_slow_crossing(workers, jobs, moves, jobs_in_B=None, directions=None, positions=None, forward_prob=.5, crossing_prob=.1, momentum_bias=.0):\n",
        "    if positions is None:\n",
        "        positions = np.random.randint(0, jobs, workers)\n",
        "    if directions is None:\n",
        "        directions = 2 * np.random.randint(0, 2, size=workers) - 1\n",
        "    if jobs_in_B is None:\n",
        "        jobs_in_B = jobs // 2\n",
        "\n",
        "    num_in_recp_B = np.zeros(moves, dtype=np.int32)\n",
        "\n",
        "    for j in range(moves):  # Simulate for 'moves' moves\n",
        "        receptacle_B = 0\n",
        "\n",
        "        for i in prange(workers):  # Parallelize the inner loop\n",
        "            # Update the position\n",
        "            positions[i] = (positions[i] + directions[i]) % jobs\n",
        "\n",
        "            random_number = np.random.rand()\n",
        "\n",
        "\n",
        "            # Check for crossing at the middle wall\n",
        "            if (positions[i] == jobs_in_B):\n",
        "              if (random_number < crossing_prob):\n",
        "                positions[i] += directions[i] if directions[i] == 1 else -1\n",
        "              else:\n",
        "                positions[i] -= directions[i] if directions[i] == 1 else -1\n",
        "\n",
        "\n",
        "            # Update direction based on the random number\n",
        "            directions[i] = 1 if random_number < forward_prob else -1\n",
        "\n",
        "            # Update the receptacles based on the partition point\n",
        "            if 0 <= positions[i] < jobs_in_B:\n",
        "                receptacle_B += 1\n",
        "\n",
        "        num_in_recp_B[j] = receptacle_B#positions[i]#\n",
        "\n",
        "    return num_in_recp_B\n"
      ],
      "metadata": {
        "id": "Njs8K5oChEsc"
      },
      "execution_count": null,
      "outputs": []
    },
    {
      "cell_type": "code",
      "source": [
        "workers = 80\n",
        "jobs = 80\n",
        "moves = 250000"
      ],
      "metadata": {
        "id": "vsHHrJAB5eU1"
      },
      "execution_count": null,
      "outputs": []
    },
    {
      "cell_type": "code",
      "source": [
        "num_in_recp_B =  random_walk_1D_wrapped_space_optimized(workers=1, jobs=jobs, moves=moves*workers,\n",
        "                                                     jobs_in_B=None,\n",
        "                                                               #crossing_prob=.5,\n",
        "                                                               #positions=np.zeros(workers,dtype=int)\n",
        "\n",
        ")\n",
        "\n",
        "#plt.plot(workers - 2*num_in_recp_B)"
      ],
      "metadata": {
        "id": "LP_MEs4C_Tv-"
      },
      "execution_count": null,
      "outputs": []
    },
    {
      "cell_type": "markdown",
      "source": [],
      "metadata": {
        "id": "xnBgJMWAu595"
      }
    },
    {
      "cell_type": "code",
      "source": [
        "fig, ax = plt.subplots()  # Create a figure and an axes."
      ],
      "metadata": {
        "id": "r3WRj_tVu6aP"
      },
      "execution_count": null,
      "outputs": []
    },
    {
      "cell_type": "code",
      "source": [
        "m = np.unique(num_in_recp_B,return_counts=True)\n",
        "ax.plot(m[0],m[1]/sum(m[1]),label='rw')\n",
        "ax.set_xlim([0,workers])\n",
        "ax.legend()\n",
        "fig  # This line will cause the figure to be displayed"
      ],
      "metadata": {
        "colab": {
          "base_uri": "https://localhost:8080/",
          "height": 430
        },
        "id": "W75s8coPuyIH",
        "outputId": "41c46758-3135-436f-999a-34797d48b9b8"
      },
      "execution_count": null,
      "outputs": [
        {
          "output_type": "execute_result",
          "data": {
            "text/plain": [
              "<Figure size 640x480 with 1 Axes>"
            ],
            "image/png": "[encoded data removed]"
          },
          "metadata": {},
          "execution_count": 12
        }
      ]
    },
    {
      "cell_type": "code",
      "source": [
        "m = np.unique(num_in_recp_B,return_counts=True)\n",
        "ax2.plot(m[0],np.log(m[1]),label='random walk 2*10^6');\n",
        "#ax2.xlim([0,workers])\n",
        "ax2.legend()\n",
        "fig2"
      ],
      "metadata": {
        "colab": {
          "base_uri": "https://localhost:8080/",
          "height": 449
        },
        "id": "HyYYwhuycKVX",
        "outputId": "a69d9289-d2ca-4631-d6f3-849e4dc8131c"
      },
      "execution_count": null,
      "outputs": [
        {
          "output_type": "execute_result",
          "data": {
            "text/plain": [
              "<Figure size 640x480 with 1 Axes>"
            ],
            "image/png": "[encoded data removed]"
          },
          "metadata": {},
          "execution_count": 168
        }
      ]
    },
    {
      "cell_type": "code",
      "source": [
        "rw_macrostatecounts = pd.DataFrame(m).T"
      ],
      "metadata": {
        "colab": {
          "base_uri": "https://localhost:8080/",
          "height": 145
        },
        "id": "bW8U5cUHss8u",
        "outputId": "4d7f09cd-1ce1-4e91-8de6-b9e8a93269c5"
      },
      "execution_count": null,
      "outputs": [
        {
          "output_type": "error",
          "ename": "AttributeError",
          "evalue": "'tuple' object has no attribute 'T'",
          "traceback": [
            "\u001b[0;31m---------------------------------------------------------------------------\u001b[0m",
            "\u001b[0;31mAttributeError\u001b[0m                            Traceback (most recent call last)",
            "\u001b[0;32m<ipython-input-181-3b3da8474677>\u001b[0m in \u001b[0;36m<cell line: 1>\u001b[0;34m()\u001b[0m\n\u001b[0;32m----> 1\u001b[0;31m \u001b[0mrw_macrostatecounts\u001b[0m \u001b[0;34m=\u001b[0m \u001b[0mpd\u001b[0m\u001b[0;34m.\u001b[0m\u001b[0mDataFrame\u001b[0m\u001b[0;34m(\u001b[0m\u001b[0mm\u001b[0m\u001b[0;34m.\u001b[0m\u001b[0mT\u001b[0m\u001b[0;34m)\u001b[0m\u001b[0;34m.\u001b[0m\u001b[0mT\u001b[0m\u001b[0;34m\u001b[0m\u001b[0;34m\u001b[0m\u001b[0m\n\u001b[0m",
            "\u001b[0;31mAttributeError\u001b[0m: 'tuple' object has no attribute 'T'"
          ]
        }
      ]
    },
    {
      "cell_type": "code",
      "source": [
        "rw_macrostatecounts['S'] = np.log(rw_macrostatecounts[1])"
      ],
      "metadata": {
        "id": "-TGSv1P5twiK"
      },
      "execution_count": null,
      "outputs": []
    },
    {
      "cell_type": "code",
      "source": [
        "rw_macrostatecounts.columns = ['q','O','S']"
      ],
      "metadata": {
        "id": "5sNr7nbLmJt3"
      },
      "execution_count": null,
      "outputs": []
    },
    {
      "cell_type": "code",
      "source": [
        "rw_macrostatecounts"
      ],
      "metadata": {
        "colab": {
          "base_uri": "https://localhost:8080/",
          "height": 1000
        },
        "id": "OByvd7YlnjLW",
        "outputId": "af30446b-2872-4ee7-cfc1-019d5f026492"
      },
      "execution_count": null,
      "outputs": [
        {
          "output_type": "execute_result",
          "data": {
            "text/plain": [
              "     q        O          S\n",
              "0   18        7   1.945910\n",
              "1   19       17   2.833213\n",
              "2   20       60   4.094345\n",
              "3   21      171   5.141664\n",
              "4   22      549   6.308098\n",
              "5   23     1362   7.216709\n",
              "6   24     2964   7.994295\n",
              "7   25     6156   8.725182\n",
              "8   26    12752   9.453443\n",
              "9   27    25431  10.143724\n",
              "10  28    48129  10.781640\n",
              "11  29    87041  11.374135\n",
              "12  30   147980  11.904832\n",
              "13  31   238259  12.381114\n",
              "14  32   364789  12.807074\n",
              "15  33   527109  13.175163\n",
              "16  34   726884  13.496522\n",
              "17  35   959627  13.774300\n",
              "18  36  1200749  13.998456\n",
              "19  37  1430263  14.173369\n",
              "20  38  1619521  14.297641\n",
              "21  39  1742308  14.370721\n",
              "22  40  1780022  14.392136\n",
              "23  41  1733734  14.365788\n",
              "24  42  1606236  14.289404\n",
              "25  43  1416721  14.163856\n",
              "26  44  1189678  13.989193\n",
              "27  45   955030  13.769498\n",
              "28  46   727744  13.497705\n",
              "29  47   526648  13.174288\n",
              "30  48   361503  12.798026\n",
              "31  49   235124  12.367868\n",
              "32  50   144307  11.879698\n",
              "33  51    84761  11.347591\n",
              "34  52    47621  10.771029\n",
              "35  53    25122  10.131499\n",
              "36  54    12775   9.455245\n",
              "37  55     6021   8.703009\n",
              "38  56     2789   7.933438\n",
              "39  57     1221   7.107425\n",
              "40  58      510   6.234411\n",
              "41  59      213   5.361292\n",
              "42  60       74   4.304065\n",
              "43  61       15   2.708050\n",
              "44  62        3   1.098612"
            ],
            "text/html": [
              "\n",
              "\n",
              "  <div id=\"df-9b01239e-9a1f-4635-a3d1-64c93758c147\">\n",
              "    <div class=\"colab-df-container\">\n",
              "      <div>\n",
              "<style scoped>\n",
              "    .dataframe tbody tr th:only-of-type {\n",
              "        vertical-align: middle;\n",
              "    }\n",
              "\n",
              "    .dataframe tbody tr th {\n",
              "        vertical-align: top;\n",
              "    }\n",
              "\n",
              "    .dataframe thead th {\n",
              "        text-align: right;\n",
              "    }\n",
              "</style>\n",
              "<table border=\"1\" class=\"dataframe\">\n",
              "  <thead>\n",
              "    <tr style=\"text-align: right;\">\n",
              "      <th></th>\n",
              "      <th>q</th>\n",
              "      <th>O</th>\n",
              "      <th>S</th>\n",
              "    </tr>\n",
              "  </thead>\n",
              "  <tbody>\n",
              "    <tr>\n",
              "      <th>0</th>\n",
              "      <td>18</td>\n",
              "      <td>7</td>\n",
              "      <td>1.945910</td>\n",
              "    </tr>\n",
              "    <tr>\n",
              "      <th>1</th>\n",
              "      <td>19</td>\n",
              "      <td>17</td>\n",
              "      <td>2.833213</td>\n",
              "    </tr>\n",
              "    <tr>\n",
              "      <th>2</th>\n",
              "      <td>20</td>\n",
              "      <td>60</td>\n",
              "      <td>4.094345</td>\n",
              "    </tr>\n",
              "    <tr>\n",
              "      <th>3</th>\n",
              "      <td>21</td>\n",
              "      <td>171</td>\n",
              "      <td>5.141664</td>\n",
              "    </tr>\n",
              "    <tr>\n",
              "      <th>4</th>\n",
              "      <td>22</td>\n",
              "      <td>549</td>\n",
              "      <td>6.308098</td>\n",
              "    </tr>\n",
              "    <tr>\n",
              "      <th>5</th>\n",
              "      <td>23</td>\n",
              "      <td>1362</td>\n",
              "      <td>7.216709</td>\n",
              "    </tr>\n",
              "    <tr>\n",
              "      <th>6</th>\n",
              "      <td>24</td>\n",
              "      <td>2964</td>\n",
              "      <td>7.994295</td>\n",
              "    </tr>\n",
              "    <tr>\n",
              "      <th>7</th>\n",
              "      <td>25</td>\n",
              "      <td>6156</td>\n",
              "      <td>8.725182</td>\n",
              "    </tr>\n",
              "    <tr>\n",
              "      <th>8</th>\n",
              "      <td>26</td>\n",
              "      <td>12752</td>\n",
              "      <td>9.453443</td>\n",
              "    </tr>\n",
              "    <tr>\n",
              "      <th>9</th>\n",
              "      <td>27</td>\n",
              "      <td>25431</td>\n",
              "      <td>10.143724</td>\n",
              "    </tr>\n",
              "    <tr>\n",
              "      <th>10</th>\n",
              "      <td>28</td>\n",
              "      <td>48129</td>\n",
              "      <td>10.781640</td>\n",
              "    </tr>\n",
              "    <tr>\n",
              "      <th>11</th>\n",
              "      <td>29</td>\n",
              "      <td>87041</td>\n",
              "      <td>11.374135</td>\n",
              "    </tr>\n",
              "    <tr>\n",
              "      <th>12</th>\n",
              "      <td>30</td>\n",
              "      <td>147980</td>\n",
              "      <td>11.904832</td>\n",
              "    </tr>\n",
              "    <tr>\n",
              "      <th>13</th>\n",
              "      <td>31</td>\n",
              "      <td>238259</td>\n",
              "      <td>12.381114</td>\n",
              "    </tr>\n",
              "    <tr>\n",
              "      <th>14</th>\n",
              "      <td>32</td>\n",
              "      <td>364789</td>\n",
              "      <td>12.807074</td>\n",
              "    </tr>\n",
              "    <tr>\n",
              "      <th>15</th>\n",
              "      <td>33</td>\n",
              "      <td>527109</td>\n",
              "      <td>13.175163</td>\n",
              "    </tr>\n",
              "    <tr>\n",
              "      <th>16</th>\n",
              "      <td>34</td>\n",
              "      <td>726884</td>\n",
              "      <td>13.496522</td>\n",
              "    </tr>\n",
              "    <tr>\n",
              "      <th>17</th>\n",
              "      <td>35</td>\n",
              "      <td>959627</td>\n",
              "      <td>13.774300</td>\n",
              "    </tr>\n",
              "    <tr>\n",
              "      <th>18</th>\n",
              "      <td>36</td>\n",
              "      <td>1200749</td>\n",
              "      <td>13.998456</td>\n",
              "    </tr>\n",
              "    <tr>\n",
              "      <th>19</th>\n",
              "      <td>37</td>\n",
              "      <td>1430263</td>\n",
              "      <td>14.173369</td>\n",
              "    </tr>\n",
              "    <tr>\n",
              "      <th>20</th>\n",
              "      <td>38</td>\n",
              "      <td>1619521</td>\n",
              "      <td>14.297641</td>\n",
              "    </tr>\n",
              "    <tr>\n",
              "      <th>21</th>\n",
              "      <td>39</td>\n",
              "      <td>1742308</td>\n",
              "      <td>14.370721</td>\n",
              "    </tr>\n",
              "    <tr>\n",
              "      <th>22</th>\n",
              "      <td>40</td>\n",
              "      <td>1780022</td>\n",
              "      <td>14.392136</td>\n",
              "    </tr>\n",
              "    <tr>\n",
              "      <th>23</th>\n",
              "      <td>41</td>\n",
              "      <td>1733734</td>\n",
              "      <td>14.365788</td>\n",
              "    </tr>\n",
              "    <tr>\n",
              "      <th>24</th>\n",
              "      <td>42</td>\n",
              "      <td>1606236</td>\n",
              "      <td>14.289404</td>\n",
              "    </tr>\n",
              "    <tr>\n",
              "      <th>25</th>\n",
              "      <td>43</td>\n",
              "      <td>1416721</td>\n",
              "      <td>14.163856</td>\n",
              "    </tr>\n",
              "    <tr>\n",
              "      <th>26</th>\n",
              "      <td>44</td>\n",
              "      <td>1189678</td>\n",
              "      <td>13.989193</td>\n",
              "    </tr>\n",
              "    <tr>\n",
              "      <th>27</th>\n",
              "      <td>45</td>\n",
              "      <td>955030</td>\n",
              "      <td>13.769498</td>\n",
              "    </tr>\n",
              "    <tr>\n",
              "      <th>28</th>\n",
              "      <td>46</td>\n",
              "      <td>727744</td>\n",
              "      <td>13.497705</td>\n",
              "    </tr>\n",
              "    <tr>\n",
              "      <th>29</th>\n",
              "      <td>47</td>\n",
              "      <td>526648</td>\n",
              "      <td>13.174288</td>\n",
              "    </tr>\n",
              "    <tr>\n",
              "      <th>30</th>\n",
              "      <td>48</td>\n",
              "      <td>361503</td>\n",
              "      <td>12.798026</td>\n",
              "    </tr>\n",
              "    <tr>\n",
              "      <th>31</th>\n",
              "      <td>49</td>\n",
              "      <td>235124</td>\n",
              "      <td>12.367868</td>\n",
              "    </tr>\n",
              "    <tr>\n",
              "      <th>32</th>\n",
              "      <td>50</td>\n",
              "      <td>144307</td>\n",
              "      <td>11.879698</td>\n",
              "    </tr>\n",
              "    <tr>\n",
              "      <th>33</th>\n",
              "      <td>51</td>\n",
              "      <td>84761</td>\n",
              "      <td>11.347591</td>\n",
              "    </tr>\n",
              "    <tr>\n",
              "      <th>34</th>\n",
              "      <td>52</td>\n",
              "      <td>47621</td>\n",
              "      <td>10.771029</td>\n",
              "    </tr>\n",
              "    <tr>\n",
              "      <th>35</th>\n",
              "      <td>53</td>\n",
              "      <td>25122</td>\n",
              "      <td>10.131499</td>\n",
              "    </tr>\n",
              "    <tr>\n",
              "      <th>36</th>\n",
              "      <td>54</td>\n",
              "      <td>12775</td>\n",
              "      <td>9.455245</td>\n",
              "    </tr>\n",
              "    <tr>\n",
              "      <th>37</th>\n",
              "      <td>55</td>\n",
              "      <td>6021</td>\n",
              "      <td>8.703009</td>\n",
              "    </tr>\n",
              "    <tr>\n",
              "      <th>38</th>\n",
              "      <td>56</td>\n",
              "      <td>2789</td>\n",
              "      <td>7.933438</td>\n",
              "    </tr>\n",
              "    <tr>\n",
              "      <th>39</th>\n",
              "      <td>57</td>\n",
              "      <td>1221</td>\n",
              "      <td>7.107425</td>\n",
              "    </tr>\n",
              "    <tr>\n",
              "      <th>40</th>\n",
              "      <td>58</td>\n",
              "      <td>510</td>\n",
              "      <td>6.234411</td>\n",
              "    </tr>\n",
              "    <tr>\n",
              "      <th>41</th>\n",
              "      <td>59</td>\n",
              "      <td>213</td>\n",
              "      <td>5.361292</td>\n",
              "    </tr>\n",
              "    <tr>\n",
              "      <th>42</th>\n",
              "      <td>60</td>\n",
              "      <td>74</td>\n",
              "      <td>4.304065</td>\n",
              "    </tr>\n",
              "    <tr>\n",
              "      <th>43</th>\n",
              "      <td>61</td>\n",
              "      <td>15</td>\n",
              "      <td>2.708050</td>\n",
              "    </tr>\n",
              "    <tr>\n",
              "      <th>44</th>\n",
              "      <td>62</td>\n",
              "      <td>3</td>\n",
              "      <td>1.098612</td>\n",
              "    </tr>\n",
              "  </tbody>\n",
              "</table>\n",
              "</div>\n",
              "      <button class=\"colab-df-convert\" onclick=\"convertToInteractive('df-9b01239e-9a1f-4635-a3d1-64c93758c147')\"\n",
              "              title=\"Convert this dataframe to an interactive table.\"\n",
              "              style=\"display:none;\">\n",
              "\n",
              "  <svg xmlns=\"http://www.w3.org/2000/svg\" height=\"24px\"viewBox=\"0 0 24 24\"\n",
              "       width=\"24px\">\n",
              "    <path d=\"M0 0h24v24H0V0z\" fill=\"none\"/>\n",
              "    <path d=\"M18.56 5.44l.94 2.06.94-2.06 2.06-.94-2.06-.94-.94-2.06-.94 2.06-2.06.94zm-11 1L8.5 8.5l.94-2.06 2.06-.94-2.06-.94L8.5 2.5l-.94 2.06-2.06.94zm10 10l.94 2.06.94-2.06 2.06-.94-2.06-.94-.94-2.06-.94 2.06-2.06.94z\"/><path d=\"M17.41 7.96l-1.37-1.37c-.4-.4-.92-.59-1.43-.59-.52 0-1.04.2-1.43.59L10.3 9.45l-7.72 7.72c-.78.78-.78 2.05 0 2.83L4 21.41c.39.39.9.59 1.41.59.51 0 1.02-.2 1.41-.59l7.78-7.78 2.81-2.81c.8-.78.8-2.07 0-2.86zM5.41 20L4 18.59l7.72-7.72 1.47 1.35L5.41 20z\"/>\n",
              "  </svg>\n",
              "      </button>\n",
              "\n",
              "\n",
              "\n",
              "    <div id=\"df-76d3b765-5755-4646-8fdd-2cbeb001c1b8\">\n",
              "      <button class=\"colab-df-quickchart\" onclick=\"quickchart('df-76d3b765-5755-4646-8fdd-2cbeb001c1b8')\"\n",
              "              title=\"Suggest charts.\"\n",
              "              style=\"display:none;\">\n",
              "\n",
              "<svg xmlns=\"http://www.w3.org/2000/svg\" height=\"24px\"viewBox=\"0 0 24 24\"\n",
              "     width=\"24px\">\n",
              "    <g>\n",
              "        <path d=\"M19 3H5c-1.1 0-2 .9-2 2v14c0 1.1.9 2 2 2h14c1.1 0 2-.9 2-2V5c0-1.1-.9-2-2-2zM9 17H7v-7h2v7zm4 0h-2V7h2v10zm4 0h-2v-4h2v4z\"/>\n",
              "    </g>\n",
              "</svg>\n",
              "      </button>\n",
              "    </div>\n",
              "\n",
              "<style>\n",
              "  .colab-df-quickchart {\n",
              "    background-color: #E8F0FE;\n",
              "    border: none;\n",
              "    border-radius: 50%;\n",
              "    cursor: pointer;\n",
              "    display: none;\n",
              "    fill: #1967D2;\n",
              "    height: 32px;\n",
              "    padding: 0 0 0 0;\n",
              "    width: 32px;\n",
              "  }\n",
              "\n",
              "  .colab-df-quickchart:hover {\n",
              "    background-color: #E2EBFA;\n",
              "    box-shadow: 0px 1px 2px rgba(60, 64, 67, 0.3), 0px 1px 3px 1px rgba(60, 64, 67, 0.15);\n",
              "    fill: #174EA6;\n",
              "  }\n",
              "\n",
              "  [theme=dark] .colab-df-quickchart {\n",
              "    background-color: #3B4455;\n",
              "    fill: #D2E3FC;\n",
              "  }\n",
              "\n",
              "  [theme=dark] .colab-df-quickchart:hover {\n",
              "    background-color: #434B5C;\n",
              "    box-shadow: 0px 1px 3px 1px rgba(0, 0, 0, 0.15);\n",
              "    filter: drop-shadow(0px 1px 2px rgba(0, 0, 0, 0.3));\n",
              "    fill: #FFFFFF;\n",
              "  }\n",
              "</style>\n",
              "\n",
              "    <script>\n",
              "      async function quickchart(key) {\n",
              "        const containerElement = document.querySelector('#' + key);\n",
              "        const charts = await google.colab.kernel.invokeFunction(\n",
              "            'suggestCharts', [key], {});\n",
              "      }\n",
              "    </script>\n",
              "\n",
              "      <script>\n",
              "\n",
              "function displayQuickchartButton(domScope) {\n",
              "  let quickchartButtonEl =\n",
              "    domScope.querySelector('#df-76d3b765-5755-4646-8fdd-2cbeb001c1b8 button.colab-df-quickchart');\n",
              "  quickchartButtonEl.style.display =\n",
              "    google.colab.kernel.accessAllowed ? 'block' : 'none';\n",
              "}\n",
              "\n",
              "        displayQuickchartButton(document);\n",
              "      </script>\n",
              "      <style>\n",
              "    .colab-df-container {\n",
              "      display:flex;\n",
              "      flex-wrap:wrap;\n",
              "      gap: 12px;\n",
              "    }\n",
              "\n",
              "    .colab-df-convert {\n",
              "      background-color: #E8F0FE;\n",
              "      border: none;\n",
              "      border-radius: 50%;\n",
              "      cursor: pointer;\n",
              "      display: none;\n",
              "      fill: #1967D2;\n",
              "      height: 32px;\n",
              "      padding: 0 0 0 0;\n",
              "      width: 32px;\n",
              "    }\n",
              "\n",
              "    .colab-df-convert:hover {\n",
              "      background-color: #E2EBFA;\n",
              "      box-shadow: 0px 1px 2px rgba(60, 64, 67, 0.3), 0px 1px 3px 1px rgba(60, 64, 67, 0.15);\n",
              "      fill: #174EA6;\n",
              "    }\n",
              "\n",
              "    [theme=dark] .colab-df-convert {\n",
              "      background-color: #3B4455;\n",
              "      fill: #D2E3FC;\n",
              "    }\n",
              "\n",
              "    [theme=dark] .colab-df-convert:hover {\n",
              "      background-color: #434B5C;\n",
              "      box-shadow: 0px 1px 3px 1px rgba(0, 0, 0, 0.15);\n",
              "      filter: drop-shadow(0px 1px 2px rgba(0, 0, 0, 0.3));\n",
              "      fill: #FFFFFF;\n",
              "    }\n",
              "  </style>\n",
              "\n",
              "      <script>\n",
              "        const buttonEl =\n",
              "          document.querySelector('#df-9b01239e-9a1f-4635-a3d1-64c93758c147 button.colab-df-convert');\n",
              "        buttonEl.style.display =\n",
              "          google.colab.kernel.accessAllowed ? 'block' : 'none';\n",
              "\n",
              "        async function convertToInteractive(key) {\n",
              "          const element = document.querySelector('#df-9b01239e-9a1f-4635-a3d1-64c93758c147');\n",
              "          const dataTable =\n",
              "            await google.colab.kernel.invokeFunction('convertToInteractive',\n",
              "                                                     [key], {});\n",
              "          if (!dataTable) return;\n",
              "\n",
              "          const docLinkHtml = 'Like what you see? Visit the ' +\n",
              "            '<a target=\"_blank\" href=https://colab.research.google.com/notebooks/data_table.ipynb>data table notebook</a>'\n",
              "            + ' to learn more about interactive tables.';\n",
              "          element.innerHTML = '';\n",
              "          dataTable['output_type'] = 'display_data';\n",
              "          await google.colab.output.renderOutput(dataTable, element);\n",
              "          const docLink = document.createElement('div');\n",
              "          docLink.innerHTML = docLinkHtml;\n",
              "          element.appendChild(docLink);\n",
              "        }\n",
              "      </script>\n",
              "    </div>\n",
              "  </div>\n"
            ]
          },
          "metadata": {},
          "execution_count": 197
        }
      ]
    },
    {
      "cell_type": "code",
      "source": [
        "rw_macrostatecounts['T'] = 2/(rw_macrostatecounts['S'].diff().fillna(0) - rw_macrostatecounts['S'].diff(periods=-1).fillna(0))"
      ],
      "metadata": {
        "id": "_SaCqdjxm34G"
      },
      "execution_count": null,
      "outputs": []
    },
    {
      "cell_type": "code",
      "source": [
        " rw_macrostatecounts['C'] = 2/(rw_macrostatecounts['T'].diff().fillna(0) - rw_macrostatecounts['T'].diff(periods=-1).fillna(0))/workers"
      ],
      "metadata": {
        "id": "cEmttb2fqwmY"
      },
      "execution_count": null,
      "outputs": []
    },
    {
      "cell_type": "code",
      "source": [
        "rw_macrostatecounts.plot(x='T',y='C')"
      ],
      "metadata": {
        "colab": {
          "base_uri": "https://localhost:8080/",
          "height": 467
        },
        "id": "BmmP8VIdoakc",
        "outputId": "13a1c7bb-fb55-4c62-b622-e60cff8e14fd"
      },
      "execution_count": null,
      "outputs": [
        {
          "output_type": "execute_result",
          "data": {
            "text/plain": [
              "<Axes: xlabel='T'>"
            ]
          },
          "metadata": {},
          "execution_count": 210
        },
        {
          "output_type": "display_data",
          "data": {
            "text/plain": [
              "<Figure size 640x480 with 1 Axes>"
            ],
            "image/png": "[encoded data removed]"
          },
          "metadata": {}
        }
      ]
    },
    {
      "cell_type": "code",
      "source": [
        "stat_macrostates['SB'] = np.log(stat_macrostates['OB'])"
      ],
      "metadata": {
        "id": "jfA2PQl9tRnx"
      },
      "execution_count": null,
      "outputs": []
    },
    {
      "cell_type": "code",
      "source": [
        "stat_macrostates['T'] = 2/(stat_macrostates['SB'].diff().fillna(0) - stat_macrostates['SB'].diff(periods=-1).fillna(0))"
      ],
      "metadata": {
        "id": "fbyhPEQTmXfC"
      },
      "execution_count": null,
      "outputs": []
    },
    {
      "cell_type": "code",
      "source": [
        "stat_macrostates['C'] = 2/(stat_macrostates['T'].diff().fillna(0) - stat_macrostates['T'].diff(periods=-1).fillna(0))/40"
      ],
      "metadata": {
        "id": "5evJdbVfsFOy"
      },
      "execution_count": null,
      "outputs": []
    },
    {
      "cell_type": "code",
      "source": [
        "stat_macrostates.plot(x='T',y='C')"
      ],
      "metadata": {
        "colab": {
          "base_uri": "https://localhost:8080/",
          "height": 467
        },
        "id": "i_6uM2DUsOFh",
        "outputId": "df9fffc1-ccb4-43db-e861-18274c680a1f"
      },
      "execution_count": null,
      "outputs": [
        {
          "output_type": "execute_result",
          "data": {
            "text/plain": [
              "<Axes: xlabel='T'>"
            ]
          },
          "metadata": {},
          "execution_count": 227
        },
        {
          "output_type": "display_data",
          "data": {
            "text/plain": [
              "<Figure size 640x480 with 1 Axes>"
            ],
            "image/png": "[encoded data removed]"
          },
          "metadata": {}
        }
      ]
    },
    {
      "cell_type": "code",
      "source": [
        "plt.plot(m[0],1/np.gradient(np.log(m[1])))\n",
        "#plt.ylim([-20,20])\n",
        "plt.plot(1/np.gradient( stat_macrostates['ln_Ot'] ))"
      ],
      "metadata": {
        "colab": {
          "base_uri": "https://localhost:8080/",
          "height": 484
        },
        "id": "64ZpcBRJnzel",
        "outputId": "831c1b5a-0c78-4e64-bc3b-dc6bde30fd13"
      },
      "execution_count": null,
      "outputs": [
        {
          "output_type": "stream",
          "name": "stderr",
          "text": [
            "<ipython-input-171-664ea83503dc>:3: RuntimeWarning: divide by zero encountered in true_divide\n",
            "  plt.plot(1/np.gradient( stat_macrostates['ln_Ot'] ))\n"
          ]
        },
        {
          "output_type": "execute_result",
          "data": {
            "text/plain": [
              "[<matplotlib.lines.Line2D at 0x7ff39bd68520>]"
            ]
          },
          "metadata": {},
          "execution_count": 171
        },
        {
          "output_type": "display_data",
          "data": {
            "text/plain": [
              "<Figure size 640x480 with 1 Axes>"
            ],
            "image/png": "[encoded data removed]"
          },
          "metadata": {}
        }
      ]
    },
    {
      "cell_type": "markdown",
      "source": [
        "##theory\n"
      ],
      "metadata": {
        "id": "IBseZfIdliRk"
      }
    },
    {
      "cell_type": "code",
      "source": [
        "import pandas as pd"
      ],
      "metadata": {
        "id": "VXaGjl8bC8NX"
      },
      "execution_count": null,
      "outputs": []
    },
    {
      "cell_type": "code",
      "source": [
        "from scipy.special import comb"
      ],
      "metadata": {
        "id": "sFdso2NeEhwT"
      },
      "execution_count": null,
      "outputs": []
    },
    {
      "cell_type": "code",
      "source": [
        "def multiplicity(q, N):\n",
        "    \"\"\"\n",
        "\n",
        "    Args:\n",
        "      q:\n",
        "      N:\n",
        "\n",
        "    Returns:\n",
        "\n",
        "    \"\"\"\n",
        "    # Calculate the multiplicity for an Einstein solid with N oscillators and q quanta\n",
        "    return comb(q + N - 1, q)"
      ],
      "metadata": {
        "id": "pch2LY_-EsAm"
      },
      "execution_count": null,
      "outputs": []
    },
    {
      "cell_type": "code",
      "source": [
        "workers = 80\n",
        "qB = np.arange(0,workers+1)\n",
        "stat_macrostates = pd.DataFrame(qB,columns=['qB'])\n",
        "jB = 40\n",
        "jA = 40"
      ],
      "metadata": {
        "id": "JLhY1GtfC_v4"
      },
      "execution_count": null,
      "outputs": []
    },
    {
      "cell_type": "code",
      "source": [
        "1/np.sqrt(jB+jA)"
      ],
      "metadata": {
        "colab": {
          "base_uri": "https://localhost:8080/"
        },
        "id": "lyg7rwDaWXem",
        "outputId": "4315512b-5664-4c90-a88e-03a944236751"
      },
      "execution_count": null,
      "outputs": [
        {
          "output_type": "execute_result",
          "data": {
            "text/plain": [
              "0.11180339887498948"
            ]
          },
          "metadata": {},
          "execution_count": 163
        }
      ]
    },
    {
      "cell_type": "code",
      "source": [
        "stat_macrostates['OB'] = stat_macrostates.apply(lambda x: multiplicity(x['qB'],jB), axis=1)\n",
        "stat_macrostates['qA'] = (workers - stat_macrostates['qB']).astype(int)\n",
        "stat_macrostates['OA'] = stat_macrostates['qA'].apply(lambda x: multiplicity(x,jA))\n",
        "stat_macrostates['Ot'] = stat_macrostates['OA'] * stat_macrostates['OB']\n",
        "stat_macrostates['Ot_norm'] = stat_macrostates['Ot'] / stat_macrostates['Ot'].max()\n",
        "stat_macrostates['Ot_prob'] = stat_macrostates['Ot'] / stat_macrostates['Ot'].sum()"
      ],
      "metadata": {
        "id": "LhOEYfvmDfPz"
      },
      "execution_count": null,
      "outputs": []
    },
    {
      "cell_type": "code",
      "source": [
        " 2.355 *stat_macrostates['Ot_prob'].std()"
      ],
      "metadata": {
        "colab": {
          "base_uri": "https://localhost:8080/"
        },
        "id": "alA6SwtSWhL9",
        "outputId": "9bce5581-ab02-4e08-b35d-6124423f27f1"
      },
      "execution_count": null,
      "outputs": [
        {
          "output_type": "execute_result",
          "data": {
            "text/plain": [
              "0.04731688670139488"
            ]
          },
          "metadata": {},
          "execution_count": 165
        }
      ]
    },
    {
      "cell_type": "code",
      "source": [
        "stat_macrostates['Ot_norm^2'] = stat_macrostates['Ot_norm']**2"
      ],
      "metadata": {
        "id": "l_pUUrblxezw"
      },
      "execution_count": null,
      "outputs": []
    },
    {
      "cell_type": "code",
      "source": [
        "stat_macrostates.plot(x='qB',y='Ot_prob',ax=ax)\n",
        "ax.set_xlim([0,workers])\n",
        "ax.legend()\n",
        "fig  # This line will cause the figure to be displayed"
      ],
      "metadata": {
        "id": "rS9LuIs0vqBG"
      },
      "execution_count": null,
      "outputs": []
    },
    {
      "cell_type": "code",
      "source": [
        "stat_macrostates['ln_Ot_norm'] = np.log(stat_macrostates['Ot_norm'] )\n",
        "stat_macrostates['ln_Ot_prob'] = np.log(stat_macrostates['Ot_prob'] )\n",
        "stat_macrostates['ln_Ot'] = np.log(stat_macrostates['Ot'] )"
      ],
      "metadata": {
        "id": "q7QGdH_rvF4J"
      },
      "execution_count": null,
      "outputs": []
    },
    {
      "cell_type": "code",
      "source": [
        "fig2, ax2 = plt.subplots()  # Create a figure and an axes."
      ],
      "metadata": {
        "id": "MaeTUVu5cDDW"
      },
      "execution_count": null,
      "outputs": []
    },
    {
      "cell_type": "code",
      "source": [
        "stat_macrostates.plot(x='qB',y='ln_Ot',ax=ax2)\n",
        "\n"
      ],
      "metadata": {
        "colab": {
          "base_uri": "https://localhost:8080/"
        },
        "id": "c95YLcbXvCnq",
        "outputId": "a9d37b9f-4f48-4fea-870b-0d4c86022c6b"
      },
      "execution_count": null,
      "outputs": [
        {
          "output_type": "execute_result",
          "data": {
            "text/plain": [
              "<Axes: xlabel='qB'>"
            ]
          },
          "metadata": {},
          "execution_count": 167
        }
      ]
    },
    {
      "cell_type": "markdown",
      "source": [
        "with reflections, weird kinks"
      ],
      "metadata": {
        "id": "GkiBy6n5wqEk"
      }
    },
    {
      "cell_type": "code",
      "source": [
        "stat_macrostates.plot(x='qB',y='ln_Ot_norm')\n",
        "plt.plot(macrostates2[0],np.log(macrostates2[1]/np.max(macrostates2[1])),label='random walk 1',color='green');\n",
        "plt.xlim([0,workers])\n",
        "plt.legend()"
      ],
      "metadata": {
        "id": "80cORkAHwEan"
      },
      "execution_count": null,
      "outputs": []
    },
    {
      "cell_type": "markdown",
      "source": [
        "#time distribution"
      ],
      "metadata": {
        "id": "LW9XlWgl1Ian"
      }
    },
    {
      "cell_type": "code",
      "source": [
        "import random\n",
        "\n",
        "def simulate(num_workers, num_commodities, num_time_units):\n",
        "    # Initialize the commodities and workers\n",
        "    commodities = [0 for _ in range(num_commodities)]\n",
        "    workers = [random.randint(0, num_commodities - 1) for _ in range(num_workers)]\n",
        "\n",
        "    # Each worker contributes their time units\n",
        "    for _ in range(num_time_units):\n",
        "        for i in range(num_workers):\n",
        "            # Each worker has a 1/3 chance of staying, 2/3 chance of moving\n",
        "            if random.random() < 2/3:\n",
        "                workers[i] = random.randint(0, num_commodities - 1)\n",
        "            commodities[workers[i]] += 1\n",
        "\n",
        "    return commodities\n",
        "\n",
        "# Run the simulation\n",
        "num_workers = 100\n",
        "num_commodities = 5\n",
        "num_time_units = 8\n",
        "result = simulate(num_workers, num_commodities, num_time_units)\n",
        "\n",
        "print(\"Time units per commodity:\", result)\n"
      ],
      "metadata": {
        "id": "kef6yino1KuD"
      },
      "execution_count": null,
      "outputs": []
    },
    {
      "cell_type": "code",
      "source": [
        "from numba import jit\n",
        "import numpy as np\n",
        "\n",
        "@jit(nopython=True)\n",
        "def simulate(num_workers, num_positions, production_time_unit_duration):\n",
        "    # Initialize the positions and workers\n",
        "    positions = np.zeros(num_positions)\n",
        "    workers = np.random.uniform(0.5, 1.5, num_workers)\n",
        "    worker_positions = np.random.randint(0, num_positions, num_workers)\n",
        "\n",
        "    # Each worker contributes their time units\n",
        "    for _ in range(production_time_unit_duration):\n",
        "        for i in range(num_workers):\n",
        "            # Each worker has a 50% chance of moving forward or backwards\n",
        "            if np.random.random() < 0.5:\n",
        "                move = 1 if np.random.random() < 0.5 else -1  # Replaced np.random.choice([-1, 1]) with a conditional expression\n",
        "                worker_positions[i] = (worker_positions[i] + move) % num_positions\n",
        "            # If the worker is at a station (even position), they contribute their time units\n",
        "            if worker_positions[i] % 2 == 0:\n",
        "                positions[worker_positions[i]] += workers[i]\n",
        "\n",
        "    # Convert the time units to commodities\n",
        "    commodities = positions[::2]  # Only even positions are stations\n",
        "\n",
        "    return commodities"
      ],
      "metadata": {
        "id": "qJQ4aveVGZwV"
      },
      "execution_count": null,
      "outputs": []
    },
    {
      "cell_type": "code",
      "source": [
        "# Run the simulation\n",
        "num_workers = 100000\n",
        "num_stations = 1\n",
        "production_time_unit_duration = 8\n",
        "result = simulate(num_workers, num_stations, production_time_unit_duration)\n",
        "\n",
        "print(\"Commodities per receptacle:\", result)"
      ],
      "metadata": {
        "id": "r1SOYzwDGGEO"
      },
      "execution_count": null,
      "outputs": []
    },
    {
      "cell_type": "code",
      "source": [
        "num_workers = 100000000\n",
        "np.mean(np.random.uniform(0.5, 1.5, num_workers))*production_time_unit_duration*num_workers"
      ],
      "metadata": {
        "id": "v-lTed__O3dc"
      },
      "execution_count": null,
      "outputs": []
    }
  ]
}