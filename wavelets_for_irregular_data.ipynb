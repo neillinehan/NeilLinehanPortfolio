{
  "nbformat": 4,
  "nbformat_minor": 0,
  "metadata": {
    "colab": {
      "provenance": [],
      "authorship_tag": "ABX9TyN91XwuoDqL8b50RRfF47RQ",
      "include_colab_link": true
    },
    "kernelspec": {
      "name": "python3",
      "display_name": "Python 3"
    },
    "language_info": {
      "name": "python"
    }
  },
  "cells": [
    {
      "cell_type": "markdown",
      "metadata": {
        "id": "view-in-github",
        "colab_type": "text"
      },
      "source": [
        "<a href=\"https://colab.research.google.com/github/neillinehan/NeilLinehanPortfolio/blob/main/wavelets_for_irregular_data.ipynb\" target=\"_parent\"><img src=\"https://colab.research.google.com/assets/colab-badge.svg\" alt=\"Open In Colab\"/></a>"
      ]
    },
    {
      "cell_type": "code",
      "source": [
        "import pandas as pd\n",
        "import numpy as np\n",
        "import math\n",
        "import matplotlib.pyplot as plt"
      ],
      "metadata": {
        "id": "GGXJHXwa2OiY"
      },
      "execution_count": 6,
      "outputs": []
    },
    {
      "cell_type": "code",
      "source": [
        "def gaussian_kernel(t, out=None):\n",
        "    np.square(t, out=t)\n",
        "    t *= -0.5\n",
        "    return np.exp(t, out=out)\n",
        "\n",
        "\n",
        "def DoG_wavelet(t, s, start, end,dt):\n",
        "    # Build a k-d tree for efficient nearest neighbor search\n",
        "    tree = cKDTree(t[:, None])\n",
        "\n",
        "    # Find the indices of the closest 'bandwidth' number of points for each point in 't'\n",
        "    _, indices = tree.query(t[start:end, None], k=300#s*6*1.87/dt,\n",
        "                            ) #set the number of data points for the guassian to extend 6 standard deviations\n",
        "\n",
        "    # Sort the indices along the second axis\n",
        "    indices.sort(axis=1)\n",
        "\n",
        "    # Calculate the pairwise distances and apply the Gaussian kernel\n",
        "    diff = (t[indices] - t[start:end, None]) / s\n",
        "    gaussian_kernel(diff, out=diff)\n",
        "\n",
        "    # Compute DoG\n",
        "    sprime_const = 1/(1.87)**2\n",
        "    DoG = (diff / np.sum(diff, axis=1, keepdims=True)) -\\\n",
        "      (np.power(diff, sprime_const) / np.sum(np.power(diff, sprime_const), axis=1, keepdims=True))\n",
        "    return DoG\n",
        "\n",
        "# This function calculates the continuous wavelet transform (CWT) of the Difference of Gaussians (DoG).\n",
        "# The CWT is a time-frequency analysis method that involves calculating the inner product of a signal with scaled and shifted versions of a wavelet function.\n",
        "def calc_cwt_DoG(DoG,signal,start,end):\n",
        "  #htau = np.sqrt(np.sum(DoG**2,axis=1))  # Calculates the norm of each column in 'DoG'\n",
        "  Twavx_tau = np.sum(DoG * signal[start:end,None], axis=1) / np.sqrt(np.sum(DoG**2,axis=1))[:,None]  # Calculates the CWT by multiplying each column in 'DoG' with 'signal', and summing up along each row\n",
        "  #Twavx_tau = np.sum((DoG / 1 ) * signal[start:end,None], axis=1)  # Calculates the CWT by multiplying each column in 'DoG' with 'signal', and summing up along each row\n",
        "\n",
        "  return Twavx_tau\n",
        "\n",
        "def compute_cwt_DoG(t, signal, s_list,start,end,dt):\n",
        "    results = []\n",
        "    for s in s_list:\n",
        "        DoG = DoG_wavelet(t, s,start,end,dt)\n",
        "        result = calc_cwt_DoG(DoG, signal,start,end)\n",
        "        results.append(result)\n",
        "    return np.asarray(results)"
      ],
      "metadata": {
        "id": "W97kVVNFJ-Om"
      },
      "execution_count": 35,
      "outputs": []
    },
    {
      "cell_type": "code",
      "source": [
        "def DoG_wavelet_cwt(t, s,signal, start, end,dt):\n",
        "    # Build a k-d tree for efficient nearest neighbor search\n",
        "    tree = cKDTree(t[:, None])\n",
        "\n",
        "    # Find the indices of the closest 'bandwidth' number of points for each point in 't'\n",
        "    _, indices = tree.query(t[start:end, None], k=s*6*1.87/dt,\n",
        "                            workers=-1,\n",
        "                            ) #set the number of data points for the guassian to extend 6 standard deviations\n",
        "\n",
        "    # Sort the indices along the second axis\n",
        "    indices.sort(axis=1)\n",
        "\n",
        "    # Calculate the pairwise distances and apply the Gaussian kernel\n",
        "    diff = (t[indices] - t[start:end, None]) / s\n",
        "    gaussian_kernel(diff, out=diff)\n",
        "\n",
        "    # Compute DoG\n",
        "    sprime_const = (1.87)**-2\n",
        "    DoG = (diff / np.sum(diff, axis=1, keepdims=True)) -\\\n",
        "      (np.power(diff, sprime_const) / np.sum(np.power(diff, sprime_const), axis=1, keepdims=True))\n",
        "    DoG = np.sum(DoG *np.sqrt(dt/s) * signal[indices],axis=1) / np.sqrt(np.sum(DoG**2,axis=1))\n",
        "    return DoG"
      ],
      "metadata": {
        "id": "dASvA_A6ozhr"
      },
      "execution_count": 36,
      "outputs": []
    },
    {
      "cell_type": "code",
      "source": [
        "def compute_cwt_DoG(t, signal, s_list,start,end,dt):\n",
        "    results = []\n",
        "    for s in s_list:\n",
        "        cwt = DoG_wavelet_cwt(t, s,signal,start,end,dt)\n",
        "        results.append(cwt)\n",
        "    return np.asarray(results)"
      ],
      "metadata": {
        "id": "6ZcT3Hp0p734"
      },
      "execution_count": 37,
      "outputs": []
    },
    {
      "cell_type": "code",
      "source": [
        "\n",
        "\n",
        "# Initialize the start time\n",
        "start_time = pd.Timestamp('2023-01-01')\n",
        "\n",
        "# Initialize an empty list to hold the timestamps\n",
        "timestamps = []\n",
        "\n",
        "# Generate data for 100 days\n",
        "for _ in range(100):\n",
        "    # Determine the duration of the active and inactive periods\n",
        "    active_hours = 14 + np.random.uniform(-1, 1)\n",
        "    inactive_hours = 10 + np.random.uniform(-1, 1)\n",
        "\n",
        "    # Generate timestamps for the active period\n",
        "    end_time = start_time + pd.Timedelta(hours=active_hours)\n",
        "    while start_time < end_time:\n",
        "        timestamps.append(start_time)\n",
        "        start_time += pd.Timedelta(seconds=60) + pd.Timedelta(seconds=np.random.uniform(-25, 25))\n",
        "\n",
        "    # Skip the inactive period\n",
        "    start_time += pd.Timedelta(hours=inactive_hours)\n",
        "\n",
        "# Convert the list of timestamps to a pandas Series\n",
        "t = pd.Series(timestamps)#.to_frame()\n",
        "df = t - t[0]\n",
        "t_numeric = df.dt.total_seconds()\n",
        "t = t_numeric.values"
      ],
      "metadata": {
        "id": "E6urEmz_yJCM"
      },
      "execution_count": 38,
      "outputs": []
    },
    {
      "cell_type": "code",
      "source": [
        "\n",
        "\n",
        "# Create a time array\n",
        "dt = 60\n",
        "min_scale = dt *2\n",
        "X = .25/6/1.87\n",
        "scales_per_octave = 10\n",
        "max_scale = dt*30\n",
        "\n",
        "#t = np.arange(0, max_scale/X, dt)  # 60 second min period\n",
        "\n",
        "# Create a signal with a frequency of  Hz cycle/s 1 cycle/s time units\n",
        "period1 = dt*20\n",
        "period2 = dt*10\n",
        "signal1 = np.sin(2*np.pi/period1*t[:len(t)//2])\n",
        "signal2 = np.sin(2*np.pi/period2*t[len(t)//2:])\n",
        "signal = np.concatenate((signal1, signal2))\n",
        "num_octaves = np.log2(max_scale / min_scale)\n",
        "num_scales = math.ceil(np.log2(max_scale / min_scale) * scales_per_octave)\n",
        "J = num_scales\n",
        "# Define the scales as periods\n",
        "scales = min_scale * 2**(np.arange(0,J+1)/scales_per_octave)"
      ],
      "metadata": {
        "id": "FENdFzhneMGj"
      },
      "execution_count": 39,
      "outputs": []
    },
    {
      "cell_type": "code",
      "source": [
        "results = compute_cwt_DoG(t, signal, scales, 0, len(t),dt)"
      ],
      "metadata": {
        "id": "R1D6ozUlzsL8"
      },
      "execution_count": 40,
      "outputs": []
    },
    {
      "cell_type": "code",
      "source": [
        "plt.contourf(results)"
      ],
      "metadata": {
        "colab": {
          "base_uri": "https://localhost:8080/",
          "height": 453
        },
        "id": "mCUhAhyO3RgU",
        "outputId": "51abb90a-8823-42e9-c880-ab491ee6c297"
      },
      "execution_count": 43,
      "outputs": [
        {
          "output_type": "execute_result",
          "data": {
            "text/plain": [
              "<matplotlib.contour.QuadContourSet at 0x7b53a35c1f90>"
            ]
          },
          "metadata": {},
          "execution_count": 43
        },
        {
          "output_type": "display_data",
          "data": {
            "text/plain": [
              "<Figure size 640x480 with 1 Axes>"
            ],
            "image/png": "[encoded data removed]"
          },
          "metadata": {}
        }
      ]
    },
    {
      "cell_type": "markdown",
      "source": [
        "# Generate difference of Gaussian wavelets - attempt at memory optimization\n"
      ],
      "metadata": {
        "id": "BwKpEJCu2fMG"
      }
    },
    {
      "cell_type": "code",
      "source": [
        "def DoG_wavelet(t, s, dt, start=0, end=None):\n",
        "    if end is None:\n",
        "        end = len(t)\n",
        "    B = 1.15\n",
        "    k = int(s * 6 * B / dt)\n",
        "    # Create an array of start indices\n",
        "    starts = np.arange(len(t)) - k//2\n",
        "    starts = np.maximum(starts, 0)\n",
        "\n",
        "    # Create an array of end indices\n",
        "    ends = starts + k\n",
        "    ends = np.minimum(ends, len(t))\n",
        "\n",
        "    # Adjust starts if ends - starts is less than k\n",
        "    starts = np.maximum(ends - k, 0)\n",
        "\n",
        "    # Create a matrix of indices\n",
        "    mat1 = np.arange(k) + starts[:, np.newaxis]\n",
        "\n",
        "    # Calculate the pairwise distances and apply the Gaussian kernel\n",
        "\n",
        "    #find pairwise difference matrix: (t-tau)/s\n",
        "    mat1 = ((t[start:end, None] - t[mat1]) / s).astype(np.complex64)\n",
        "\n",
        "    #finding complex gaussian k((t-tau)/s)\n",
        "    #e ^ -((t-tau)/s) ^2 + ((t-tau)/s) i\n",
        "    mat2 = np.exp(-mat1*mat1/2- mat1 * 1j)\n",
        "    #normalize weights of complex guassian k((t-tau)/s)/SUM(k(t-tau)/s)\n",
        "    mat2 /= np.sum(mat2, axis=1, keepdims=True)  # normalize in-place\n",
        "\n",
        "    #finding complex gaussian k((t-tau)/s'), s'=1.87 s\n",
        "    #(t-tau)/s'\n",
        "    mat1 /= B  # reuse 'diff' variable to save memory\n",
        "    #e ^ -((t-tau)/s') ^2 - ((t-tau)/s') i\n",
        "    mat1 = np.exp(-mat1*mat1/2 - mat1 * 1j)\n",
        "    #normalize weights of complex guassian k((t-tau)/s')/SUM(k(t-tau)/s')\n",
        "    mat1 /= np.sum(mat1, axis=1, keepdims=True)  # normalize in-place\n",
        "\n",
        "    #find DoG wavelet Ns - Ns'\n",
        "    mat2 = mat2 - mat1\n",
        "    #find DoG wavelet Ns - Ns' - normalized\n",
        "    mat2 /= np.sqrt(np.sum(abs(mat2)**2,axis=1))[:, None]\n",
        "\n",
        "    return mat2\n"
      ],
      "metadata": {
        "id": "9evk1LaoQYED"
      },
      "execution_count": 41,
      "outputs": []
    },
    {
      "cell_type": "markdown",
      "source": [
        "##experimenting with inputting the signal to optimize memory needs."
      ],
      "metadata": {
        "id": "Aq8LF8Ee2RGG"
      }
    },
    {
      "cell_type": "code",
      "source": [
        "def DoG_wavelet(t, s, dt,signal, start=0, end=None):\n",
        "    if end is None:\n",
        "        end = len(t)\n",
        "    k = int(s * 6 * 1.87 / dt)\n",
        "    # Create an array of start indices\n",
        "    starts = np.arange(len(t)) - k//2\n",
        "    starts = np.maximum(starts, 0)\n",
        "\n",
        "    # Create an array of end indices\n",
        "    ends = starts + k\n",
        "    ends = np.minimum(ends, len(t))\n",
        "\n",
        "    # Adjust starts if ends - starts is less than k\n",
        "    starts = np.maximum(ends - k, 0)\n",
        "\n",
        "    # Create a matrix of indices\n",
        "    mat1 = np.arange(k) + starts[:, np.newaxis]\n",
        "\n",
        "    # Calculate the pairwise distances and apply the Gaussian kernel\n",
        "\n",
        "    #find pairwise difference matrix: (t-tau)/s\n",
        "    mat1 = ((t[start:end, None] - t[mat1]) / s).astype(np.complex64)\n",
        "\n",
        "    #finding complex gaussian k((t-tau)/s)\n",
        "    #e ^ -((t-tau)/s) ^2 + ((t-tau)/s) i\n",
        "    mat2 = np.exp(-mat1*mat1 - mat1 * 1j)\n",
        "    #normalize weights of complex guassian k((t-tau)/s)/SUM(k(t-tau)/s)\n",
        "    mat2 /= np.sum(mat2, axis=1, keepdims=True)  # normalize in-place\n",
        "\n",
        "    #finding complex gaussian k((t-tau)/s'), s'=1.87 s\n",
        "    #(t-tau)/s'\n",
        "    mat1 /= 1.87  # reuse 'diff' variable to save memory\n",
        "    #e ^ -((t-tau)/s') ^2 - ((t-tau)/s') i\n",
        "    mat1 = np.exp(-mat1*mat1 - mat1 * 1j)\n",
        "    #normalize weights of complex guassian k((t-tau)/s')/SUM(k(t-tau)/s')\n",
        "    mat1 /= np.sum(mat1, axis=1, keepdims=True)  # normalize in-place\n",
        "\n",
        "    #find DoG wavelet Ns - Ns'\n",
        "    mat2 = mat2 - mat1\n",
        "    #find DoG wavelet Ns - Ns' - normalized\n",
        "    mat2 /= np.sqrt(np.sum(abs(mat2)**2,axis=1))[:, None]\n",
        "    mat2 = np.sum(mat2 * signal[np.arange(k) + starts[:, np.newaxis]],axis=1)\n",
        "\n",
        "    return mat2\n"
      ],
      "metadata": {
        "id": "FHmoDjKHUHBC"
      },
      "execution_count": 44,
      "outputs": []
    },
    {
      "cell_type": "code",
      "source": [
        "DoG_120 = DoG_wavelet(t[:],240,60)"
      ],
      "metadata": {
        "id": "P7PaoHTIa6u0"
      },
      "execution_count": 45,
      "outputs": []
    },
    {
      "cell_type": "code",
      "source": [
        "s = 240\n",
        "dt = 60"
      ],
      "metadata": {
        "id": "EYcZXN9gRnjz"
      },
      "execution_count": 18,
      "outputs": []
    },
    {
      "cell_type": "code",
      "source": [
        "k = int(s * 6 *1.15  / dt)\n",
        "    # Create an array of start indices\n",
        "starts = np.arange(len(t)) - k//2\n",
        "starts = np.maximum(starts, 0)\n",
        "\n",
        "    # Create an array of end indices\n",
        "ends = starts + k\n",
        "ends = np.minimum(ends, len(t))\n",
        "\n",
        "    # Adjust starts if ends - starts is less than k\n",
        "starts = np.maximum(ends - k, 0)\n",
        "\n",
        "    # Create a matrix of indices\n",
        "mat1 = np.arange(k) + starts[:, np.newaxis]"
      ],
      "metadata": {
        "id": "47iXBsQHKpKq"
      },
      "execution_count": 19,
      "outputs": []
    },
    {
      "cell_type": "code",
      "source": [
        "mat = []\n",
        "scales = np.linspace(350,370,20)\n",
        "for s in scales:\n",
        "  mat.append(abs(np.sum(DoG_120*np.cos(t[mat1]*np.pi/s),axis=1))**2)"
      ],
      "metadata": {
        "id": "40YjqXGAZoI7"
      },
      "execution_count": 20,
      "outputs": []
    },
    {
      "cell_type": "code",
      "source": [
        "mat = np.asarray(mat)\n",
        "mat = np.sum(mat,axis=1)"
      ],
      "metadata": {
        "id": "eyFfCZuga-IL"
      },
      "execution_count": 21,
      "outputs": []
    },
    {
      "cell_type": "code",
      "source": [
        "plt.plot(scales,mat)"
      ],
      "metadata": {
        "colab": {
          "base_uri": "https://localhost:8080/",
          "height": 448
        },
        "id": "-pLWyqrIYn9G",
        "outputId": "85d6018d-c5a1-412c-e760-e11dd943b3e9"
      },
      "execution_count": 22,
      "outputs": [
        {
          "output_type": "execute_result",
          "data": {
            "text/plain": [
              "[<matplotlib.lines.Line2D at 0x7b53a3208370>]"
            ]
          },
          "metadata": {},
          "execution_count": 22
        },
        {
          "output_type": "display_data",
          "data": {
            "text/plain": [
              "<Figure size 640x480 with 1 Axes>"
            ],
            "image/png": "[encoded data removed]"
          },
          "metadata": {}
        }
      ]
    },
    {
      "cell_type": "code",
      "source": [
        "s_to_p = scales[np.argmax(mat)]/240"
      ],
      "metadata": {
        "id": "QBJkzzUMMATQ"
      },
      "execution_count": 23,
      "outputs": []
    },
    {
      "cell_type": "code",
      "source": [
        "scales[np.argmax(mat)]"
      ],
      "metadata": {
        "colab": {
          "base_uri": "https://localhost:8080/"
        },
        "id": "5Q1oMu_GST0D",
        "outputId": "0c458c73-a33c-4b63-f7f6-02892cb1cfe4"
      },
      "execution_count": 24,
      "outputs": [
        {
          "output_type": "execute_result",
          "data": {
            "text/plain": [
              "360.5263157894737"
            ]
          },
          "metadata": {},
          "execution_count": 24
        }
      ]
    },
    {
      "cell_type": "code",
      "source": [
        "scales[np.argmax(mat)]/240"
      ],
      "metadata": {
        "colab": {
          "base_uri": "https://localhost:8080/"
        },
        "id": "Na78wWQwLq8R",
        "outputId": "9040641d-9118-4dec-9f88-169712d250c4"
      },
      "execution_count": 25,
      "outputs": [
        {
          "output_type": "execute_result",
          "data": {
            "text/plain": [
              "1.5021929824561404"
            ]
          },
          "metadata": {},
          "execution_count": 25
        }
      ]
    },
    {
      "cell_type": "code",
      "source": [
        "from scipy import interpolate\n",
        "\n",
        "def scale_wavelet(wavelet, new_length):\n",
        "    old_indices = np.linspace(0, 1, len(wavelet))\n",
        "    new_indices = np.linspace(0, 1, new_length)\n",
        "    interpolator = interpolate.interp1d(old_indices, wavelet)\n",
        "    return interpolator(new_indices)\n",
        "\n",
        "# Assuming mother_wavelet is your mother wavelet\n",
        "mother_wavelet = DoG_120[400]  # for example\n",
        "\n",
        "# Scale the mother wavelet to double its length\n",
        "scaled_wavelet = scale_wavelet(mother_wavelet, len(mother_wavelet) * 2)\n"
      ],
      "metadata": {
        "id": "J5ZxPk1Ac_nE"
      },
      "execution_count": 26,
      "outputs": []
    },
    {
      "cell_type": "code",
      "source": [
        "old_indices = t[mat1[500]]\n",
        "new_indices = t[mat1[501]]\n",
        "interpolator = interpolate.interp1d(old_indices, DoG_120[500])\n",
        "moved_Wavelet = interpolator(new_indices)"
      ],
      "metadata": {
        "colab": {
          "base_uri": "https://localhost:8080/",
          "height": 332
        },
        "id": "Wx0IQ-DvR6n7",
        "outputId": "11e57388-6de6-4024-a917-0350400beb0a"
      },
      "execution_count": 27,
      "outputs": [
        {
          "output_type": "error",
          "ename": "ValueError",
          "evalue": "A value (30342.751479801) in x_new is above the interpolation range's maximum value (30264.322120872).",
          "traceback": [
            "\u001b[0;31m---------------------------------------------------------------------------\u001b[0m",
            "\u001b[0;31mValueError\u001b[0m                                Traceback (most recent call last)",
            "\u001b[0;32m<ipython-input-27-b6e9c1432492>\u001b[0m in \u001b[0;36m<cell line: 4>\u001b[0;34m()\u001b[0m\n\u001b[1;32m      2\u001b[0m \u001b[0mnew_indices\u001b[0m \u001b[0;34m=\u001b[0m \u001b[0mt\u001b[0m\u001b[0;34m[\u001b[0m\u001b[0mmat1\u001b[0m\u001b[0;34m[\u001b[0m\u001b[0;36m501\u001b[0m\u001b[0;34m]\u001b[0m\u001b[0;34m]\u001b[0m\u001b[0;34m\u001b[0m\u001b[0;34m\u001b[0m\u001b[0m\n\u001b[1;32m      3\u001b[0m \u001b[0minterpolator\u001b[0m \u001b[0;34m=\u001b[0m \u001b[0minterpolate\u001b[0m\u001b[0;34m.\u001b[0m\u001b[0minterp1d\u001b[0m\u001b[0;34m(\u001b[0m\u001b[0mold_indices\u001b[0m\u001b[0;34m,\u001b[0m \u001b[0mDoG_120\u001b[0m\u001b[0;34m[\u001b[0m\u001b[0;36m500\u001b[0m\u001b[0;34m]\u001b[0m\u001b[0;34m)\u001b[0m\u001b[0;34m\u001b[0m\u001b[0;34m\u001b[0m\u001b[0m\n\u001b[0;32m----> 4\u001b[0;31m \u001b[0mmoved_Wavelet\u001b[0m \u001b[0;34m=\u001b[0m \u001b[0minterpolator\u001b[0m\u001b[0;34m(\u001b[0m\u001b[0mnew_indices\u001b[0m\u001b[0;34m)\u001b[0m\u001b[0;34m\u001b[0m\u001b[0;34m\u001b[0m\u001b[0m\n\u001b[0m",
            "\u001b[0;32m/usr/local/lib/python3.10/dist-packages/scipy/interpolate/_polyint.py\u001b[0m in \u001b[0;36m__call__\u001b[0;34m(self, x)\u001b[0m\n\u001b[1;32m     78\u001b[0m         \"\"\"\n\u001b[1;32m     79\u001b[0m         \u001b[0mx\u001b[0m\u001b[0;34m,\u001b[0m \u001b[0mx_shape\u001b[0m \u001b[0;34m=\u001b[0m \u001b[0mself\u001b[0m\u001b[0;34m.\u001b[0m\u001b[0m_prepare_x\u001b[0m\u001b[0;34m(\u001b[0m\u001b[0mx\u001b[0m\u001b[0;34m)\u001b[0m\u001b[0;34m\u001b[0m\u001b[0;34m\u001b[0m\u001b[0m\n\u001b[0;32m---> 80\u001b[0;31m         \u001b[0my\u001b[0m \u001b[0;34m=\u001b[0m \u001b[0mself\u001b[0m\u001b[0;34m.\u001b[0m\u001b[0m_evaluate\u001b[0m\u001b[0;34m(\u001b[0m\u001b[0mx\u001b[0m\u001b[0;34m)\u001b[0m\u001b[0;34m\u001b[0m\u001b[0;34m\u001b[0m\u001b[0m\n\u001b[0m\u001b[1;32m     81\u001b[0m         \u001b[0;32mreturn\u001b[0m \u001b[0mself\u001b[0m\u001b[0;34m.\u001b[0m\u001b[0m_finish_y\u001b[0m\u001b[0;34m(\u001b[0m\u001b[0my\u001b[0m\u001b[0;34m,\u001b[0m \u001b[0mx_shape\u001b[0m\u001b[0;34m)\u001b[0m\u001b[0;34m\u001b[0m\u001b[0;34m\u001b[0m\u001b[0m\n\u001b[1;32m     82\u001b[0m \u001b[0;34m\u001b[0m\u001b[0m\n",
            "\u001b[0;32m/usr/local/lib/python3.10/dist-packages/scipy/interpolate/_interpolate.py\u001b[0m in \u001b[0;36m_evaluate\u001b[0;34m(self, x_new)\u001b[0m\n\u001b[1;32m    753\u001b[0m         \u001b[0my_new\u001b[0m \u001b[0;34m=\u001b[0m \u001b[0mself\u001b[0m\u001b[0;34m.\u001b[0m\u001b[0m_call\u001b[0m\u001b[0;34m(\u001b[0m\u001b[0mself\u001b[0m\u001b[0;34m,\u001b[0m \u001b[0mx_new\u001b[0m\u001b[0;34m)\u001b[0m\u001b[0;34m\u001b[0m\u001b[0;34m\u001b[0m\u001b[0m\n\u001b[1;32m    754\u001b[0m         \u001b[0;32mif\u001b[0m \u001b[0;32mnot\u001b[0m \u001b[0mself\u001b[0m\u001b[0;34m.\u001b[0m\u001b[0m_extrapolate\u001b[0m\u001b[0;34m:\u001b[0m\u001b[0;34m\u001b[0m\u001b[0;34m\u001b[0m\u001b[0m\n\u001b[0;32m--> 755\u001b[0;31m             \u001b[0mbelow_bounds\u001b[0m\u001b[0;34m,\u001b[0m \u001b[0mabove_bounds\u001b[0m \u001b[0;34m=\u001b[0m \u001b[0mself\u001b[0m\u001b[0;34m.\u001b[0m\u001b[0m_check_bounds\u001b[0m\u001b[0;34m(\u001b[0m\u001b[0mx_new\u001b[0m\u001b[0;34m)\u001b[0m\u001b[0;34m\u001b[0m\u001b[0;34m\u001b[0m\u001b[0m\n\u001b[0m\u001b[1;32m    756\u001b[0m             \u001b[0;32mif\u001b[0m \u001b[0mlen\u001b[0m\u001b[0;34m(\u001b[0m\u001b[0my_new\u001b[0m\u001b[0;34m)\u001b[0m \u001b[0;34m>\u001b[0m \u001b[0;36m0\u001b[0m\u001b[0;34m:\u001b[0m\u001b[0;34m\u001b[0m\u001b[0;34m\u001b[0m\u001b[0m\n\u001b[1;32m    757\u001b[0m                 \u001b[0;31m# Note fill_value must be broadcast up to the proper size\u001b[0m\u001b[0;34m\u001b[0m\u001b[0;34m\u001b[0m\u001b[0m\n",
            "\u001b[0;32m/usr/local/lib/python3.10/dist-packages/scipy/interpolate/_interpolate.py\u001b[0m in \u001b[0;36m_check_bounds\u001b[0;34m(self, x_new)\u001b[0m\n\u001b[1;32m    787\u001b[0m         \u001b[0;32mif\u001b[0m \u001b[0mself\u001b[0m\u001b[0;34m.\u001b[0m\u001b[0mbounds_error\u001b[0m \u001b[0;32mand\u001b[0m \u001b[0mabove_bounds\u001b[0m\u001b[0;34m.\u001b[0m\u001b[0many\u001b[0m\u001b[0;34m(\u001b[0m\u001b[0;34m)\u001b[0m\u001b[0;34m:\u001b[0m\u001b[0;34m\u001b[0m\u001b[0;34m\u001b[0m\u001b[0m\n\u001b[1;32m    788\u001b[0m             \u001b[0mabove_bounds_value\u001b[0m \u001b[0;34m=\u001b[0m \u001b[0mx_new\u001b[0m\u001b[0;34m[\u001b[0m\u001b[0mnp\u001b[0m\u001b[0;34m.\u001b[0m\u001b[0margmax\u001b[0m\u001b[0;34m(\u001b[0m\u001b[0mabove_bounds\u001b[0m\u001b[0;34m)\u001b[0m\u001b[0;34m]\u001b[0m\u001b[0;34m\u001b[0m\u001b[0;34m\u001b[0m\u001b[0m\n\u001b[0;32m--> 789\u001b[0;31m             raise ValueError(\"A value ({}) in x_new is above \"\n\u001b[0m\u001b[1;32m    790\u001b[0m                              \u001b[0;34m\"the interpolation range's maximum value ({}).\"\u001b[0m\u001b[0;34m\u001b[0m\u001b[0;34m\u001b[0m\u001b[0m\n\u001b[1;32m    791\u001b[0m                              .format(above_bounds_value, self.x[-1]))\n",
            "\u001b[0;31mValueError\u001b[0m: A value (30342.751479801) in x_new is above the interpolation range's maximum value (30264.322120872)."
          ]
        }
      ]
    },
    {
      "cell_type": "code",
      "source": [
        "plt.plot(DoG_120[100])"
      ],
      "metadata": {
        "id": "j9z5Ds9LSrz4",
        "outputId": "2376dd79-b490-410f-d32c-b289c0584d72",
        "colab": {
          "base_uri": "https://localhost:8080/",
          "height": 484
        }
      },
      "execution_count": 46,
      "outputs": [
        {
          "output_type": "stream",
          "name": "stderr",
          "text": [
            "/usr/local/lib/python3.10/dist-packages/matplotlib/cbook/__init__.py:1335: ComplexWarning: Casting complex values to real discards the imaginary part\n",
            "  return np.asarray(x, float)\n"
          ]
        },
        {
          "output_type": "execute_result",
          "data": {
            "text/plain": [
              "[<matplotlib.lines.Line2D at 0x7b539c574dc0>]"
            ]
          },
          "metadata": {},
          "execution_count": 46
        },
        {
          "output_type": "display_data",
          "data": {
            "text/plain": [
              "<Figure size 640x480 with 1 Axes>"
            ],
            "image/png": "[encoded data removed]"
          },
          "metadata": {}
        }
      ]
    },
    {
      "cell_type": "code",
      "source": [
        "wavelet_test = DoG_120"
      ],
      "metadata": {
        "id": "nGbWTdRJNCbY"
      },
      "execution_count": null,
      "outputs": []
    },
    {
      "cell_type": "code",
      "source": [
        "real_parts = np.real(wavelet_test)\n",
        "imag_parts = np.imag(wavelet_test)\n",
        "\n",
        "# Check orthogonality\n",
        "inner_products = np.einsum('ij,ij->i', real_parts, imag_parts)\n",
        "orthogonal = np.isclose(inner_products, 0)\n",
        "\n",
        "# Check vanishing moment\n",
        "real_means = np.mean(real_parts, axis=1)\n",
        "imag_means = np.mean(imag_parts, axis=1)\n",
        "vanishing_moment = np.isclose(real_means, 0) & np.isclose(imag_means, 0)\n",
        "\n",
        "# Check mean\n",
        "real_integrals = np.trapz(real_parts, axis=1)\n",
        "imag_integrals = np.trapz(imag_parts, axis=1)\n",
        "zero_mean = np.isclose(real_integrals, 0) & np.isclose(imag_integrals, 0)\n",
        "\n",
        "# Check energy\n",
        "# Compute magnitudes of complex wavelets\n",
        "magnitudes = np.abs(wavelet_test)\n",
        "\n",
        "# Square magnitudes\n",
        "squared_magnitudes = np.square(magnitudes)\n",
        "\n",
        "# Sum squared magnitudes along each row\n",
        "energies = np.sum(squared_magnitudes, axis=1)\n",
        "tolerance = .01*60  # Adjust this value as needed\n",
        "\n",
        "# Check orthogonality\n",
        "orthogonal = np.isclose(inner_products, 0, atol=tolerance)\n",
        "\n",
        "# Check vanishing moment\n",
        "vanishing_moment = np.isclose(real_means, 0, atol=tolerance) & np.isclose(imag_means, 0, atol=tolerance)\n",
        "\n",
        "# Check mean\n",
        "zero_mean = np.isclose(real_integrals, 0, atol=tolerance) & np.isclose(imag_integrals, 0, atol=tolerance)\n",
        "\n",
        "# Check energy\n",
        "unit_energy = np.isclose(energies, 1, atol=tolerance)\n",
        "# Count the number of wavelets that pass each check\n",
        "num_orthogonal = np.sum(orthogonal)\n",
        "num_vanishing_moment = np.sum(vanishing_moment)\n",
        "num_zero_mean = np.sum(zero_mean)\n",
        "num_unit_energy = np.sum(unit_energy)\n",
        "\n",
        "# Calculate the percentage of wavelets that pass each check\n",
        "perc_orthogonal = num_orthogonal / len(wavelet_test) * 100\n",
        "perc_vanishing_moment = num_vanishing_moment / len(wavelet_test) * 100\n",
        "perc_zero_mean = num_zero_mean / len(wavelet_test) * 100\n",
        "perc_unit_energy = num_unit_energy / len(wavelet_test) * 100\n",
        "\n",
        "# Print summary results\n",
        "print(f\"{perc_orthogonal}% of wavelets have orthogonal real and imaginary parts.\")\n",
        "print(f\"{perc_vanishing_moment}% of wavelets have one vanishing moment.\")\n",
        "print(f\"{perc_zero_mean}% of wavelets have a mean of zero.\")\n",
        "print(f\"{perc_unit_energy}% of wavelets have an energy of 1.\")\n"
      ],
      "metadata": {
        "id": "ZHyjuXUZZAoI",
        "colab": {
          "base_uri": "https://localhost:8080/"
        },
        "outputId": "92908bf4-e5a9-4d8a-8546-acd636e766e7"
      },
      "execution_count": null,
      "outputs": [
        {
          "output_type": "stream",
          "name": "stdout",
          "text": [
            "100.0% of wavelets have orthogonal real and imaginary parts.\n",
            "100.0% of wavelets have one vanishing moment.\n",
            "100.0% of wavelets have a mean of zero.\n",
            "100.0% of wavelets have an energy of 1.\n"
          ]
        }
      ]
    }
  ]
}